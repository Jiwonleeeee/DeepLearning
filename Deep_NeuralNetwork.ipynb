{
  "nbformat": 4,
  "nbformat_minor": 0,
  "metadata": {
    "colab": {
      "provenance": [],
      "authorship_tag": "ABX9TyPTDIHIpTygAp7oiRXA5XF3"
    },
    "kernelspec": {
      "name": "python3",
      "display_name": "Python 3"
    },
    "language_info": {
      "name": "python"
    }
  },
  "cells": [
    {
      "cell_type": "markdown",
      "source": [],
      "metadata": {
        "id": "aYfwGb2YhbBp"
      }
    },
    {
      "cell_type": "code",
      "source": [
        "import numpy as np\n",
        "import tensorflow as tf\n",
        "import tensorflow.keras as keras\n",
        "\n",
        "\n",
        "from keras.datasets import mnist\n",
        "from keras.models import Sequential\n",
        "from keras.layers import Dense\n",
        "from keras.utils import to_categorical\n",
        "from keras.callbacks import EarlyStopping\n",
        "from keras.callbacks import ModelCheckpoint\n",
        "from keras.layers import Dropout"
      ],
      "metadata": {
        "id": "oEEFba8KiNjB"
      },
      "execution_count": null,
      "outputs": []
    },
    {
      "cell_type": "code",
      "execution_count": null,
      "metadata": {
        "colab": {
          "base_uri": "https://localhost:8080/"
        },
        "id": "TqkK16k7WEvt",
        "outputId": "a8d70501-60e2-4af3-fd1c-39bcd7c807f4"
      },
      "outputs": [
        {
          "output_type": "stream",
          "name": "stdout",
          "text": [
            "Downloading data from https://storage.googleapis.com/tensorflow/tf-keras-datasets/boston_housing.npz\n",
            "57026/57026 [==============================] - 0s 0us/step\n"
          ]
        }
      ],
      "source": [
        "from keras.datasets import boston_housing\n",
        "(train_data, train_targets), (test_data, test_targets) = boston_housing.load_data()\n",
        "mean = train_data.mean(axis=0)\n",
        "train_data -= mean\n",
        "std = train_data.std(axis=0)\n",
        "train_data /= std"
      ]
    },
    {
      "cell_type": "code",
      "source": [
        "model = Sequential()\n",
        "model.add(Dense(256, input_dim =13, activation='relu'))\n",
        "model.add(Dropout(rate=0.2))\n",
        "model.add(Dense(128, activation='relu'))\n",
        "model.add(Dropout(rate=0.2))\n",
        "model.add(Dense(64, activation='relu'))\n",
        "model.add(Dropout(rate=0.2))\n",
        "model.add(Dense(1, activation=\"linear\")) # for output"
      ],
      "metadata": {
        "id": "vuTaUiR4WMoA"
      },
      "execution_count": null,
      "outputs": []
    },
    {
      "cell_type": "code",
      "source": [
        "model.summary()"
      ],
      "metadata": {
        "colab": {
          "base_uri": "https://localhost:8080/"
        },
        "id": "Dqz1LVkHjMqW",
        "outputId": "107ec8ec-a06c-400f-ac8d-91fcedb3e762"
      },
      "execution_count": null,
      "outputs": [
        {
          "output_type": "stream",
          "name": "stdout",
          "text": [
            "Model: \"sequential\"\n",
            "_________________________________________________________________\n",
            " Layer (type)                Output Shape              Param #   \n",
            "=================================================================\n",
            " dense (Dense)               (None, 256)               3584      \n",
            "                                                                 \n",
            " dropout (Dropout)           (None, 256)               0         \n",
            "                                                                 \n",
            " dense_1 (Dense)             (None, 128)               32896     \n",
            "                                                                 \n",
            " dropout_1 (Dropout)         (None, 128)               0         \n",
            "                                                                 \n",
            " dense_2 (Dense)             (None, 64)                8256      \n",
            "                                                                 \n",
            " dropout_2 (Dropout)         (None, 64)                0         \n",
            "                                                                 \n",
            " dense_3 (Dense)             (None, 1)                 65        \n",
            "                                                                 \n",
            "=================================================================\n",
            "Total params: 44801 (175.00 KB)\n",
            "Trainable params: 44801 (175.00 KB)\n",
            "Non-trainable params: 0 (0.00 Byte)\n",
            "_________________________________________________________________\n"
          ]
        }
      ]
    },
    {
      "cell_type": "code",
      "source": [
        "model.compile(optimizer='adam', loss='mse', metrics=['mae'])"
      ],
      "metadata": {
        "id": "assnrUXiqnMo"
      },
      "execution_count": null,
      "outputs": []
    },
    {
      "cell_type": "code",
      "source": [
        "# Early stopping\n",
        "es = EarlyStopping(monitor='val_loss', verbose = 0, mode = \"auto\")\n",
        "\n",
        "model.fit(\n",
        "  train_data,\n",
        "  train_targets,\n",
        "  epochs=150,\n",
        "  validation_split=0.2,\n",
        "  callbacks=es\n",
        ")"
      ],
      "metadata": {
        "colab": {
          "base_uri": "https://localhost:8080/"
        },
        "id": "vVuypnKGrnSu",
        "outputId": "8dacd5a7-3f02-4baf-ce67-b930fd667903"
      },
      "execution_count": null,
      "outputs": [
        {
          "output_type": "stream",
          "name": "stdout",
          "text": [
            "Epoch 1/150\n",
            "11/11 [==============================] - 4s 53ms/step - loss: 528.8873 - mae: 21.0405 - val_loss: 518.1823 - val_mae: 20.8872\n",
            "Epoch 2/150\n",
            "11/11 [==============================] - 0s 18ms/step - loss: 378.5381 - mae: 17.1248 - val_loss: 288.5397 - val_mae: 14.6895\n",
            "Epoch 3/150\n",
            "11/11 [==============================] - 0s 25ms/step - loss: 156.3859 - mae: 10.2721 - val_loss: 66.3322 - val_mae: 6.2168\n",
            "Epoch 4/150\n",
            "11/11 [==============================] - 0s 30ms/step - loss: 76.5791 - mae: 6.6047 - val_loss: 41.3440 - val_mae: 5.0521\n",
            "Epoch 5/150\n",
            "11/11 [==============================] - 0s 23ms/step - loss: 46.2556 - mae: 4.8957 - val_loss: 35.2245 - val_mae: 4.3086\n",
            "Epoch 6/150\n",
            "11/11 [==============================] - 0s 17ms/step - loss: 41.2152 - mae: 4.4594 - val_loss: 21.6664 - val_mae: 3.4404\n",
            "Epoch 7/150\n",
            "11/11 [==============================] - 0s 28ms/step - loss: 30.1952 - mae: 4.1370 - val_loss: 19.9153 - val_mae: 3.3230\n",
            "Epoch 8/150\n",
            "11/11 [==============================] - 0s 27ms/step - loss: 28.4323 - mae: 3.8628 - val_loss: 19.3398 - val_mae: 3.1935\n",
            "Epoch 9/150\n",
            "11/11 [==============================] - 0s 25ms/step - loss: 29.0586 - mae: 3.9555 - val_loss: 18.7285 - val_mae: 3.2003\n",
            "Epoch 10/150\n",
            "11/11 [==============================] - 0s 24ms/step - loss: 26.9756 - mae: 3.6776 - val_loss: 18.1472 - val_mae: 3.2643\n",
            "Epoch 11/150\n",
            "11/11 [==============================] - 0s 25ms/step - loss: 27.7706 - mae: 3.9784 - val_loss: 18.3527 - val_mae: 3.1317\n"
          ]
        },
        {
          "output_type": "execute_result",
          "data": {
            "text/plain": [
              "<keras.src.callbacks.History at 0x780a1f5c0a90>"
            ]
          },
          "metadata": {},
          "execution_count": 6
        }
      ]
    },
    {
      "cell_type": "code",
      "source": [
        "mean = test_data.mean(axis=0)\n",
        "test_data -= mean\n",
        "std = test_data.std(axis=0)\n",
        "test_data /= std\n"
      ],
      "metadata": {
        "id": "FeyWtUTctxLf"
      },
      "execution_count": null,
      "outputs": []
    },
    {
      "cell_type": "code",
      "source": [
        "y_predict = model.predict(test_data)"
      ],
      "metadata": {
        "colab": {
          "base_uri": "https://localhost:8080/"
        },
        "id": "2t7vb2uFsu3-",
        "outputId": "ec5d55a7-ad85-4261-8e4e-8922f9b0a525"
      },
      "execution_count": null,
      "outputs": [
        {
          "output_type": "stream",
          "name": "stdout",
          "text": [
            "4/4 [==============================] - 0s 6ms/step\n"
          ]
        }
      ]
    },
    {
      "cell_type": "code",
      "source": [
        "y_predict.shape"
      ],
      "metadata": {
        "colab": {
          "base_uri": "https://localhost:8080/"
        },
        "id": "7lhInTaPtN93",
        "outputId": "498a4da9-d38d-4695-bbd0-004b41e51c05"
      },
      "execution_count": null,
      "outputs": [
        {
          "output_type": "execute_result",
          "data": {
            "text/plain": [
              "(102, 1)"
            ]
          },
          "metadata": {},
          "execution_count": 9
        }
      ]
    },
    {
      "cell_type": "code",
      "source": [
        "import matplotlib.pyplot as plt\n",
        "plt.scatter(test_targets, y_predict)\n",
        "plt.show()"
      ],
      "metadata": {
        "colab": {
          "base_uri": "https://localhost:8080/",
          "height": 431
        },
        "id": "Njsy7ku-tDyR",
        "outputId": "469407d5-260e-4240-e330-492b27626074"
      },
      "execution_count": null,
      "outputs": [
        {
          "output_type": "display_data",
          "data": {
            "text/plain": [
              "<Figure size 640x480 with 1 Axes>"
            ],
            "image/png": "[encoded data removed]"
          },
          "metadata": {}
        }
      ]
    }
  ]
}