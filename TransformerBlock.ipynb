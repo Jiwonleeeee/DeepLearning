{
  "nbformat": 4,
  "nbformat_minor": 0,
  "metadata": {
    "colab": {
      "provenance": [],
      "authorship_tag": "ABX9TyNfVxz0cjCBNVqIVjxxchPi"
    },
    "kernelspec": {
      "name": "python3",
      "display_name": "Python 3"
    },
    "language_info": {
      "name": "python"
    }
  },
  "cells": [
    {
      "cell_type": "code",
      "execution_count": null,
      "metadata": {
        "id": "Pna7dpJ7fiK_"
      },
      "outputs": [],
      "source": [
        "import numpy as np\n",
        "import pandas as pd\n",
        "from tensorflow import keras as keras\n",
        "from keras.preprocessing.text import Tokenizer\n",
        "from keras.utils import pad_sequences\n",
        "import re\n",
        "import nltk\n",
        "from nltk.stem import WordNetLemmatizer\n",
        "from sklearn.model_selection import train_test_split\n"
      ]
    },
    {
      "cell_type": "code",
      "source": [
        "from tensorflow.keras import layers"
      ],
      "metadata": {
        "id": "_PjcMrQ5o74p"
      },
      "execution_count": null,
      "outputs": []
    },
    {
      "cell_type": "code",
      "source": [
        "import tensorflow as tf"
      ],
      "metadata": {
        "id": "AbHjbwndp718"
      },
      "execution_count": null,
      "outputs": []
    },
    {
      "cell_type": "code",
      "source": [
        "from google.colab import drive\n",
        "drive.mount('/content/drive')"
      ],
      "metadata": {
        "colab": {
          "base_uri": "https://localhost:8080/"
        },
        "id": "7Bb8Ys1ugJ8N",
        "outputId": "bca53832-89cc-46cc-921d-d1d26ff266e5"
      },
      "execution_count": null,
      "outputs": [
        {
          "output_type": "stream",
          "name": "stdout",
          "text": [
            "Mounted at /content/drive\n"
          ]
        }
      ]
    },
    {
      "cell_type": "markdown",
      "source": [
        "Import the dataset, and merge the fake and true news."
      ],
      "metadata": {
        "id": "NVinS42VoiVj"
      }
    },
    {
      "cell_type": "code",
      "source": [
        "fake_news = pd.read_csv('/content/drive/MyDrive/Colab Notebooks/Fake.csv')\n",
        "true_news = pd.read_csv('/content/drive/MyDrive/Colab Notebooks/True.csv')\n",
        "\n",
        "fake_news['target']=0\n",
        "true_news['target']=1\n",
        "\n",
        "data = pd.concat([fake_news,true_news])\n",
        "data = data.drop(columns=['title','subject','date'])\n",
        "data.head()"
      ],
      "metadata": {
        "colab": {
          "base_uri": "https://localhost:8080/",
          "height": 206
        },
        "id": "e7eLfOnZfo4C",
        "outputId": "9046a827-a1fe-4127-8053-7b2fb16fdd27"
      },
      "execution_count": null,
      "outputs": [
        {
          "output_type": "execute_result",
          "data": {
            "text/plain": [
              "                                                text  target\n",
              "0  Donald Trump just couldn t wish all Americans ...       0\n",
              "1  House Intelligence Committee Chairman Devin Nu...       0\n",
              "2  On Friday, it was revealed that former Milwauk...       0\n",
              "3  On Christmas day, Donald Trump announced that ...       0\n",
              "4  Pope Francis used his annual Christmas Day mes...       0"
            ],
            "text/html": [
              "\n",
              "  <div id=\"df-35a32202-9c32-4fb0-8256-43582f95886c\" class=\"colab-df-container\">\n",
              "    <div>\n",
              "<style scoped>\n",
              "    .dataframe tbody tr th:only-of-type {\n",
              "        vertical-align: middle;\n",
              "    }\n",
              "\n",
              "    .dataframe tbody tr th {\n",
              "        vertical-align: top;\n",
              "    }\n",
              "\n",
              "    .dataframe thead th {\n",
              "        text-align: right;\n",
              "    }\n",
              "</style>\n",
              "<table border=\"1\" class=\"dataframe\">\n",
              "  <thead>\n",
              "    <tr style=\"text-align: right;\">\n",
              "      <th></th>\n",
              "      <th>text</th>\n",
              "      <th>target</th>\n",
              "    </tr>\n",
              "  </thead>\n",
              "  <tbody>\n",
              "    <tr>\n",
              "      <th>0</th>\n",
              "      <td>Donald Trump just couldn t wish all Americans ...</td>\n",
              "      <td>0</td>\n",
              "    </tr>\n",
              "    <tr>\n",
              "      <th>1</th>\n",
              "      <td>House Intelligence Committee Chairman Devin Nu...</td>\n",
              "      <td>0</td>\n",
              "    </tr>\n",
              "    <tr>\n",
              "      <th>2</th>\n",
              "      <td>On Friday, it was revealed that former Milwauk...</td>\n",
              "      <td>0</td>\n",
              "    </tr>\n",
              "    <tr>\n",
              "      <th>3</th>\n",
              "      <td>On Christmas day, Donald Trump announced that ...</td>\n",
              "      <td>0</td>\n",
              "    </tr>\n",
              "    <tr>\n",
              "      <th>4</th>\n",
              "      <td>Pope Francis used his annual Christmas Day mes...</td>\n",
              "      <td>0</td>\n",
              "    </tr>\n",
              "  </tbody>\n",
              "</table>\n",
              "</div>\n",
              "    <div class=\"colab-df-buttons\">\n",
              "\n",
              "  <div class=\"colab-df-container\">\n",
              "    <button class=\"colab-df-convert\" onclick=\"convertToInteractive('df-35a32202-9c32-4fb0-8256-43582f95886c')\"\n",
              "            title=\"Convert this dataframe to an interactive table.\"\n",
              "            style=\"display:none;\">\n",
              "\n",
              "  <svg xmlns=\"http://www.w3.org/2000/svg\" height=\"24px\" viewBox=\"0 -960 960 960\">\n",
              "    <path d=\"M120-120v-720h720v720H120Zm60-500h600v-160H180v160Zm220 220h160v-160H400v160Zm0 220h160v-160H400v160ZM180-400h160v-160H180v160Zm440 0h160v-160H620v160ZM180-180h160v-160H180v160Zm440 0h160v-160H620v160Z\"/>\n",
              "  </svg>\n",
              "    </button>\n",
              "\n",
              "  <style>\n",
              "    .colab-df-container {\n",
              "      display:flex;\n",
              "      gap: 12px;\n",
              "    }\n",
              "\n",
              "    .colab-df-convert {\n",
              "      background-color: #E8F0FE;\n",
              "      border: none;\n",
              "      border-radius: 50%;\n",
              "      cursor: pointer;\n",
              "      display: none;\n",
              "      fill: #1967D2;\n",
              "      height: 32px;\n",
              "      padding: 0 0 0 0;\n",
              "      width: 32px;\n",
              "    }\n",
              "\n",
              "    .colab-df-convert:hover {\n",
              "      background-color: #E2EBFA;\n",
              "      box-shadow: 0px 1px 2px rgba(60, 64, 67, 0.3), 0px 1px 3px 1px rgba(60, 64, 67, 0.15);\n",
              "      fill: #174EA6;\n",
              "    }\n",
              "\n",
              "    .colab-df-buttons div {\n",
              "      margin-bottom: 4px;\n",
              "    }\n",
              "\n",
              "    [theme=dark] .colab-df-convert {\n",
              "      background-color: #3B4455;\n",
              "      fill: #D2E3FC;\n",
              "    }\n",
              "\n",
              "    [theme=dark] .colab-df-convert:hover {\n",
              "      background-color: #434B5C;\n",
              "      box-shadow: 0px 1px 3px 1px rgba(0, 0, 0, 0.15);\n",
              "      filter: drop-shadow(0px 1px 2px rgba(0, 0, 0, 0.3));\n",
              "      fill: #FFFFFF;\n",
              "    }\n",
              "  </style>\n",
              "\n",
              "    <script>\n",
              "      const buttonEl =\n",
              "        document.querySelector('#df-35a32202-9c32-4fb0-8256-43582f95886c button.colab-df-convert');\n",
              "      buttonEl.style.display =\n",
              "        google.colab.kernel.accessAllowed ? 'block' : 'none';\n",
              "\n",
              "      async function convertToInteractive(key) {\n",
              "        const element = document.querySelector('#df-35a32202-9c32-4fb0-8256-43582f95886c');\n",
              "        const dataTable =\n",
              "          await google.colab.kernel.invokeFunction('convertToInteractive',\n",
              "                                                    [key], {});\n",
              "        if (!dataTable) return;\n",
              "\n",
              "        const docLinkHtml = 'Like what you see? Visit the ' +\n",
              "          '<a target=\"_blank\" href=https://colab.research.google.com/notebooks/data_table.ipynb>data table notebook</a>'\n",
              "          + ' to learn more about interactive tables.';\n",
              "        element.innerHTML = '';\n",
              "        dataTable['output_type'] = 'display_data';\n",
              "        await google.colab.output.renderOutput(dataTable, element);\n",
              "        const docLink = document.createElement('div');\n",
              "        docLink.innerHTML = docLinkHtml;\n",
              "        element.appendChild(docLink);\n",
              "      }\n",
              "    </script>\n",
              "  </div>\n",
              "\n",
              "\n",
              "<div id=\"df-a64672ab-6a85-46ff-9eb2-cb96c57f3e49\">\n",
              "  <button class=\"colab-df-quickchart\" onclick=\"quickchart('df-a64672ab-6a85-46ff-9eb2-cb96c57f3e49')\"\n",
              "            title=\"Suggest charts\"\n",
              "            style=\"display:none;\">\n",
              "\n",
              "<svg xmlns=\"http://www.w3.org/2000/svg\" height=\"24px\"viewBox=\"0 0 24 24\"\n",
              "     width=\"24px\">\n",
              "    <g>\n",
              "        <path d=\"M19 3H5c-1.1 0-2 .9-2 2v14c0 1.1.9 2 2 2h14c1.1 0 2-.9 2-2V5c0-1.1-.9-2-2-2zM9 17H7v-7h2v7zm4 0h-2V7h2v10zm4 0h-2v-4h2v4z\"/>\n",
              "    </g>\n",
              "</svg>\n",
              "  </button>\n",
              "\n",
              "<style>\n",
              "  .colab-df-quickchart {\n",
              "      --bg-color: #E8F0FE;\n",
              "      --fill-color: #1967D2;\n",
              "      --hover-bg-color: #E2EBFA;\n",
              "      --hover-fill-color: #174EA6;\n",
              "      --disabled-fill-color: #AAA;\n",
              "      --disabled-bg-color: #DDD;\n",
              "  }\n",
              "\n",
              "  [theme=dark] .colab-df-quickchart {\n",
              "      --bg-color: #3B4455;\n",
              "      --fill-color: #D2E3FC;\n",
              "      --hover-bg-color: #434B5C;\n",
              "      --hover-fill-color: #FFFFFF;\n",
              "      --disabled-bg-color: #3B4455;\n",
              "      --disabled-fill-color: #666;\n",
              "  }\n",
              "\n",
              "  .colab-df-quickchart {\n",
              "    background-color: var(--bg-color);\n",
              "    border: none;\n",
              "    border-radius: 50%;\n",
              "    cursor: pointer;\n",
              "    display: none;\n",
              "    fill: var(--fill-color);\n",
              "    height: 32px;\n",
              "    padding: 0;\n",
              "    width: 32px;\n",
              "  }\n",
              "\n",
              "  .colab-df-quickchart:hover {\n",
              "    background-color: var(--hover-bg-color);\n",
              "    box-shadow: 0 1px 2px rgba(60, 64, 67, 0.3), 0 1px 3px 1px rgba(60, 64, 67, 0.15);\n",
              "    fill: var(--button-hover-fill-color);\n",
              "  }\n",
              "\n",
              "  .colab-df-quickchart-complete:disabled,\n",
              "  .colab-df-quickchart-complete:disabled:hover {\n",
              "    background-color: var(--disabled-bg-color);\n",
              "    fill: var(--disabled-fill-color);\n",
              "    box-shadow: none;\n",
              "  }\n",
              "\n",
              "  .colab-df-spinner {\n",
              "    border: 2px solid var(--fill-color);\n",
              "    border-color: transparent;\n",
              "    border-bottom-color: var(--fill-color);\n",
              "    animation:\n",
              "      spin 1s steps(1) infinite;\n",
              "  }\n",
              "\n",
              "  @keyframes spin {\n",
              "    0% {\n",
              "      border-color: transparent;\n",
              "      border-bottom-color: var(--fill-color);\n",
              "      border-left-color: var(--fill-color);\n",
              "    }\n",
              "    20% {\n",
              "      border-color: transparent;\n",
              "      border-left-color: var(--fill-color);\n",
              "      border-top-color: var(--fill-color);\n",
              "    }\n",
              "    30% {\n",
              "      border-color: transparent;\n",
              "      border-left-color: var(--fill-color);\n",
              "      border-top-color: var(--fill-color);\n",
              "      border-right-color: var(--fill-color);\n",
              "    }\n",
              "    40% {\n",
              "      border-color: transparent;\n",
              "      border-right-color: var(--fill-color);\n",
              "      border-top-color: var(--fill-color);\n",
              "    }\n",
              "    60% {\n",
              "      border-color: transparent;\n",
              "      border-right-color: var(--fill-color);\n",
              "    }\n",
              "    80% {\n",
              "      border-color: transparent;\n",
              "      border-right-color: var(--fill-color);\n",
              "      border-bottom-color: var(--fill-color);\n",
              "    }\n",
              "    90% {\n",
              "      border-color: transparent;\n",
              "      border-bottom-color: var(--fill-color);\n",
              "    }\n",
              "  }\n",
              "</style>\n",
              "\n",
              "  <script>\n",
              "    async function quickchart(key) {\n",
              "      const quickchartButtonEl =\n",
              "        document.querySelector('#' + key + ' button');\n",
              "      quickchartButtonEl.disabled = true;  // To prevent multiple clicks.\n",
              "      quickchartButtonEl.classList.add('colab-df-spinner');\n",
              "      try {\n",
              "        const charts = await google.colab.kernel.invokeFunction(\n",
              "            'suggestCharts', [key], {});\n",
              "      } catch (error) {\n",
              "        console.error('Error during call to suggestCharts:', error);\n",
              "      }\n",
              "      quickchartButtonEl.classList.remove('colab-df-spinner');\n",
              "      quickchartButtonEl.classList.add('colab-df-quickchart-complete');\n",
              "    }\n",
              "    (() => {\n",
              "      let quickchartButtonEl =\n",
              "        document.querySelector('#df-a64672ab-6a85-46ff-9eb2-cb96c57f3e49 button');\n",
              "      quickchartButtonEl.style.display =\n",
              "        google.colab.kernel.accessAllowed ? 'block' : 'none';\n",
              "    })();\n",
              "  </script>\n",
              "</div>\n",
              "\n",
              "    </div>\n",
              "  </div>\n"
            ],
            "application/vnd.google.colaboratory.intrinsic+json": {
              "type": "dataframe",
              "variable_name": "data",
              "summary": "{\n  \"name\": \"data\",\n  \"rows\": 44898,\n  \"fields\": [\n    {\n      \"column\": \"text\",\n      \"properties\": {\n        \"dtype\": \"string\",\n        \"num_unique_values\": 38646,\n        \"samples\": [\n          \" (This September 29 has been corrected to fix date of election in paragraph 3) NAIROBI (Reuters) - A Kenyan government watchdog said on Friday it was investigating whether police had assaulted students during protests this week at the University of Nairobi over the detention of an opposition lawmaker.   Police fired tear gas on Thursday at the protesting students. Video footage posted on social media later in the day showed uniformed officers outside dormitories and inside classrooms using batons to hit people who did not appear to be involved in the campus protests.  It was the latest crackdown by police on protests since an Aug. 8 presidential election that was later annulled by the Supreme Court. A re-run of the vote has been set for Oct. 26. The Independent Police Oversight Authority (IPOA)  this morning noted from social media reports of an incident in which members of the National Police Service allegedly stormed the University of Nairobi and assaulted students at the institution,  the authority said on its Twitter feed.  It requested that any member of the public come forward to provide information to aid the investigation.  The students had been protesting against the re-arrest of a lawmaker, Paul Ongili Owino, on Wednesday, shortly after he was released on bail on charges of subversion for calling President Uhuru Kenyatta a  son of a dog  at a campaign rally. Kenya is a key Western ally in a region often roiled by violence. Preparations for the re-run of the election are being closely monitored for signs of instability, after at least 28 people were killed in unrest following the Aug. 8 vote. The IPOA watchdog was created in 2011, after police came under severe criticism for the number of protesters killed during demonstrations against disputed elections in 2007. The violence then killed around 1,2000 people. But local and international rights groups say the institution is struggling to fulfill its mandate to investigate allegations of police brutality in a country rife with reports from civilians of extrajudicial killings by security forces.  The IPOA has secured two convictions of police officers in the four years it has been operational. The watchdog pledged last month to fast-track investigations into high-profile deaths such as that of a baby allegedly killed by police in the violence after the election. [L4N1L34FC] But people familiar with the status of these investigations say the police are not cooperating with them, and that senior officials in the police force and the interior ministry insist officers killed only thieves and thugs. \",\n          \"WASHINGTON/CAIRO (Reuters) - Five Iraqi passengers and one Yemeni were barred from boarding an EgyptAir flight from Cairo to New York on Saturday after President Donald Trump halted the entry of citizens from seven Muslim-majority countries, sources at Cairo airport said. The passengers, arriving in transit to Cairo airport, were stopped and re-directed to flights headed for their home countries despite holding valid visas, the sources said.  Trump on Friday put a four-month hold on allowing refugees into the United States and temporarily barred travelers from Syria and six other Muslim-majority countries, saying the moves would help protect Americans from terrorist attacks. He said his most sweeping use of his presidential powers since taking office a week ago, barring travelers from the seven nations for at least 90 days, would give his administration time to develop more stringent screening procedures for refugees, immigrants and visitors. \\u201cI\\u2019m establishing new vetting measures to keep radical Islamic terrorists out of the United States of America. Don\\u2019t want them here,\\u201d Trump said earlier on Friday at the Pentagon. \\u201cWe only want to admit those into our country who will support our country and love deeply our people,\\u201d he said. The bans, though temporary, took effect immediately, causing havoc and confusion for would-be travelers with passports from Iran, Iraq, Libya, Somalia, Sudan, Syria and Yemen. Besides Cairo it was not immediately clear whether other  airports of countries listed by Trump had swiftly implemented the ban. Arab officials of the listed countries would not comment on the matter. The order seeks to prioritize refugees fleeing religious persecution, a move Trump separately said was aimed at helping Christians in Syria. That led some legal experts to question whether the order was constitutional. One group said it would announce a court challenge on Monday. The Council on American-Islamic Relations said the order targets Muslims because of their faith, contravening the U.S. Constitutional right to freedom of religion. \\u201cPresident Trump has cloaked what is a discriminatory ban against nationals of Muslim countries under the banner of national security,\\u201d said Greg Chen of the American Immigration Lawyers Association.  Trump has long pledged to take this kind of action, making it a prominent feature of his campaign for the Nov. 8 election. But people who work with Muslim immigrants and refugees were scrambling to determine the scope of the order. Even legal permanent residents - people with \\u201cgreen cards\\u201d allowing them to live and work in the United States - were being advised to consult immigration lawyers before traveling outside the country, or trying to return, according to Muslim Advocates, a civil rights group in Washington.  On Friday evening, Abed Ayoub of the American-Arab Anti-Discrimination Committee said he had fielded about 100 queries from people anxious about the order, which he said he believed could affect traveling green card holders, students, people coming to the United States for medical care and others. \\u201cIt\\u2019s chaos,\\u201d Ayoub said. During his campaign, Trump tapped into American fears about Islamic State militants and the flood of migrants into Europe from Syria\\u2019s civil war, saying refugees could be a \\u201cTrojan horse\\u201d that allowed attackers to enter the United States. In December 2015, he called for a ban on all Muslims entering the United States, drawing fire for suggesting a religious test for immigrants that critics said would violate the U.S. Constitution. His idea later evolved into a proposal for \\u201cextreme vetting.\\u201d  Trump\\u2019s order also suspends the Syrian refugee program until further notice, and will eventually give priority to minority religious groups fleeing persecution.  Trump said in an interview with the Christian Broadcasting Network that the exception would help Syrian Christians fleeing the civil war there. Legal experts were divided on whether this order would be constitutional. \\u201cIf they are thinking about an exception for Christians, in almost any other legal context discriminating in favor of one religion and against another religion could violate the constitution,\\u201d said Stephen Legomsky, a former chief counsel at U.S. Citizenship and Immigration Services in the Obama administration. But Peter Spiro, a professor at Temple University Beasley School of Law, said Trump\\u2019s action would likely be constitutional because the president and Congress are allowed considerable deference when it comes to asylum decisions. \\u201cIt\\u2019s a completely plausible prioritization, to the extent this group is actually being persecuted,\\u201d Spiro said. The order may also affect special refugee programs for Iraqis who worked for the U.S. government as translators after the 2003 invasion of Iraq. It is already affecting refugees and their families, said Jen Smyers of the Church World Service, a Protestant faith-based group that works with migrants. Smyers said she spoke to an Iraqi mother whose twin daughters remain in Iraq due to processing delays. \\u201cThose two 18-year-old daughters won\\u2019t be able to join their mother in the U.S.,\\u201d she said. Democrats on Friday were quick to condemn Trump\\u2019s order as un-American, saying it would tarnish the reputation of the United States as a land that welcomes immigrants. \\u201cToday\\u2019s executive order from President Trump is more about extreme xenophobia than extreme vetting,\\u201d said Democratic Senator Edward Markey in a statement. Some Republicans praised the move. Representative Bob Goodlatte, chairman of the House of Representatives Judiciary Committee, said Islamic State has threatened to use the U.S. immigration system, making it important to do more screening. \\u201cI am pleased that President Trump is using the tools granted to him by Congress and the power granted by the Constitution to help keep America safe and ensure we know who is entering the United States,\\u201d Goodlatte said in a statement. Without naming Trump, Iranian President Hassan Rouhani said on Saturday it was no time to build walls between nations and criticized steps towards cancelling world trade agreements. Trump on Wednesday ordered the construction of a U.S.-Mexican border wall, a major promise during his election campaign, as part of a package of measures to curb illegal immigration. \\u201cToday is not the time to erect walls between nations. They have forgotten that the Berlin wall fell years ago,\\u201d Rouhani said in a speech carried live on Iranian state television. He made no direct reference to Trump\\u2019s order regarding refugees and travelers from the seven mainly Muslim states. Rouhani, a pragmatist elected in 2013, thawed Iran\\u2019s relations with world powers after years of confrontation and engineered its 2015 deal with them under which it curbed its nuclear program in exchange for relief from sanctions. Rouhani said earlier this month that Trump could not unilaterally cancel the nuclear deal and that talk of renegotiating it was \\u201cmeaningless\\u201d. France and Germany voiced disquiet on Saturday over Trump\\u2019s new restrictions on immigration. \\u201cWelcoming refugees who flee war and oppression is part of our duty,\\u201d French Foreign Minister Jean-Marc Ayrault said at a joint news conference with German counterpart Sigmar Gabriel. \\u201cThe United States is a country where Christian traditions have an important meaning. Loving your neighbor is a major Christian value, and that includes helping people,\\u201d said  Gabriel. \\u201cI think that is what unites us in the West, and I think that is what we want to make clear to the Americans.\\u201d \",\n          \"PRISTINA (Reuters) - Kosovo s center-right coalition led by the Democratic Party of Kosovo signed a deal on Monday with the small New Alliance for Kosovo party to form a government, ending nearly three months of political deadlock after an election on June 11.      Finally Kosovo has started to move ... we had some big delays and our institutions now will be formed,  said Ramush Haradinaj, from the center-right coalition of parties made up of former guerrillas who fought the 1998-99 war against Serb forces. Under the deal, the parties along with ethnic minorities will secure 63 seats in the 120-seat parliament.  President Hashim Thaci is expected to give Haradinaj a mandate to form the government within days. A source who asked not to be named told Reuters the parliament session to elect the parliament speaker would be held this week. Haradinaj, who twice stood trial before the United Nations war crimes court for war crimes and was acquitted, briefly held the post of prime minister in 2005.  The smaller New Alliance for Kosovo party is led by Behgjet Pacolli, who is dubbed by media the richest Kosovar.  Pacolli, who also holds a Swiss passport, won many contracts from the Russian government to rebuild state buildings in Moscow in the  90s but a decade ago he moved his business from Moscow to Kazakhstan.  It is unclear what post Pacolli will hold in the new government.  The new government will have to tackle unemployment running at 30 percent and improve relations with Kosovo s neighbors, especially Serbia, a precondition for both countries to move forward in the European Union accession process. It must also reform health and education and the tax administration system as well as include representatives of some 120,000 Kosovo Serbs who do not recognize independence. Kosovo declared independence from Serbia in 2008, almost a decade after NATO air strikes drove out Serbian forces accused of expelling and killing ethnic Albanian civilians in a two-year counter-insurgency.  \"\n        ],\n        \"semantic_type\": \"\",\n        \"description\": \"\"\n      }\n    },\n    {\n      \"column\": \"target\",\n      \"properties\": {\n        \"dtype\": \"number\",\n        \"std\": 0,\n        \"min\": 0,\n        \"max\": 1,\n        \"num_unique_values\": 2,\n        \"samples\": [\n          1,\n          0\n        ],\n        \"semantic_type\": \"\",\n        \"description\": \"\"\n      }\n    }\n  ]\n}"
            }
          },
          "metadata": {},
          "execution_count": 5
        }
      ]
    },
    {
      "cell_type": "markdown",
      "source": [
        "Change the words to lower cases."
      ],
      "metadata": {
        "id": "oyztmdwLovvW"
      }
    },
    {
      "cell_type": "code",
      "source": [
        "data['text'] = data['text'].apply(lambda x:x.lower())\n",
        "data['text'].head()"
      ],
      "metadata": {
        "colab": {
          "base_uri": "https://localhost:8080/"
        },
        "id": "RYx4uSBgg07P",
        "outputId": "4c338096-d632-4c68-cb09-a5a54ad7cc1e"
      },
      "execution_count": null,
      "outputs": [
        {
          "output_type": "execute_result",
          "data": {
            "text/plain": [
              "0    donald trump just couldn t wish all americans ...\n",
              "1    house intelligence committee chairman devin nu...\n",
              "2    on friday, it was revealed that former milwauk...\n",
              "3    on christmas day, donald trump announced that ...\n",
              "4    pope francis used his annual christmas day mes...\n",
              "Name: text, dtype: object"
            ]
          },
          "metadata": {},
          "execution_count": 6
        }
      ]
    },
    {
      "cell_type": "code",
      "source": [
        "x = data['text']\n",
        "y = data['target']"
      ],
      "metadata": {
        "id": "xVUwd1X46WbF"
      },
      "execution_count": null,
      "outputs": []
    },
    {
      "cell_type": "markdown",
      "source": [
        "First, split the data with 50% of train data and 50% of test and validation sets."
      ],
      "metadata": {
        "id": "DePlClQjo517"
      }
    },
    {
      "cell_type": "code",
      "source": [
        "x_train, x_temp, y_train, y_temp = train_test_split(x, y , test_size=0.5,train_size=0.5, random_state=334)\n"
      ],
      "metadata": {
        "id": "mtouCzA254kF"
      },
      "execution_count": null,
      "outputs": []
    },
    {
      "cell_type": "markdown",
      "source": [
        "Use 20% of the remaining data as test data and the 30% is validation data."
      ],
      "metadata": {
        "id": "h4pPvEj0pJeM"
      }
    },
    {
      "cell_type": "code",
      "source": [
        "x_val, x_test, y_val, y_test = train_test_split(x_temp, y_temp , test_size=0.8,train_size=0.2, random_state=334)"
      ],
      "metadata": {
        "id": "O0se8Nji9t5E"
      },
      "execution_count": null,
      "outputs": []
    },
    {
      "cell_type": "markdown",
      "source": [
        "Tokenizing the texts firts."
      ],
      "metadata": {
        "id": "H3qLiOJapMFY"
      }
    },
    {
      "cell_type": "code",
      "source": [
        "nltk.download('wordnet')\n",
        "nltk.download('omw-1.4') # for Lemmatization\n",
        "\n",
        "x_train = x_train.apply(lambda x :x.lower()) # all lower cases\n",
        "x_test = x_test.apply(lambda x :x.lower())\n",
        "x_val = x_val.apply(lambda x :x.lower())\n",
        "\n",
        "lemm = WordNetLemmatizer()\n",
        "# Lemmatization is the process of grouping together the different inflected forms of a word\n",
        "# so they can be analyzed as a single item\n",
        "x_train = x_train.apply(lambda x: lemm.lemmatize(x))\n",
        "x_test = x_test.apply(lambda x: lemm.lemmatize(x))\n",
        "x_val = x_val.apply(lambda x: lemm.lemmatize(x))\n",
        "\n",
        "token = Tokenizer(num_words=10000,oov_token=\"<OOV>\") # replace any unknown words with OOV, split\n",
        "token.fit_on_texts(x_train) #  Tokenizer stores everything in the word_index during fit_on_texts\n",
        "token.fit_on_texts(x_test)\n",
        "token.fit_on_texts(x_val)\n",
        "\n",
        "word_index = token.word_index  # so the len(word_index) = # unique word in x.\n",
        "# text x -> sequences of integers, takes only 10000 most common words\n",
        "\n",
        "# padding the shorter sentences with zeroes, and truncating some of the longer sequences to be shorter\n",
        "# post: pad and truncate occur at the end of the sequence (pre=beginning)\n",
        "train_seq = token.texts_to_sequences(x_train)\n",
        "train_padd = pad_sequences(train_seq, padding=\"post\", truncating=\"post\",maxlen=200)\n",
        "\n",
        "test_seq = token.texts_to_sequences(x_test)\n",
        "test_padd = pad_sequences(test_seq, padding=\"post\", truncating=\"post\",maxlen=200)\n",
        "\n",
        "val_seq = token.texts_to_sequences(x_val)\n",
        "val_padd = pad_sequences(val_seq, padding=\"post\", truncating=\"post\",maxlen=200)\n"
      ],
      "metadata": {
        "colab": {
          "base_uri": "https://localhost:8080/"
        },
        "id": "YIKWjFql-5ya",
        "outputId": "6260ce67-2404-47e5-c121-d1577ff4b2e9"
      },
      "execution_count": null,
      "outputs": [
        {
          "output_type": "stream",
          "name": "stderr",
          "text": [
            "[nltk_data] Downloading package wordnet to /root/nltk_data...\n",
            "[nltk_data] Downloading package omw-1.4 to /root/nltk_data...\n"
          ]
        }
      ]
    },
    {
      "cell_type": "code",
      "source": [
        "vocab_size = 20000  # Only consider the top 20k words\n",
        "maxlen = 200  # Only consider the first 200 words of each movie review"
      ],
      "metadata": {
        "id": "mhHDadUZ6bVJ"
      },
      "execution_count": null,
      "outputs": []
    },
    {
      "cell_type": "markdown",
      "source": [
        "Buliding a transformer block."
      ],
      "metadata": {
        "id": "cuI3CIWwpR9w"
      }
    },
    {
      "cell_type": "code",
      "source": [
        "class TransformerBlock(layers.Layer):\n",
        "    def __init__(self, embed_dim, num_heads, ff_dim, rate=0.1):\n",
        "        super().__init__()\n",
        "        self.att = layers.MultiHeadAttention(num_heads=num_heads, key_dim=embed_dim)\n",
        "        self.ffn = keras.Sequential(\n",
        "            [layers.Dense(ff_dim, activation=\"relu\"), layers.Dense(embed_dim),]\n",
        "        )\n",
        "        self.layernorm1 = layers.LayerNormalization(epsilon=1e-6)\n",
        "        self.layernorm2 = layers.LayerNormalization(epsilon=1e-6)\n",
        "        self.dropout1 = layers.Dropout(rate)\n",
        "        self.dropout2 = layers.Dropout(rate)\n",
        "\n",
        "    def call(self, inputs, training):\n",
        "        attn_output = self.att(inputs, inputs)\n",
        "        attn_output = self.dropout1(attn_output, training=training)\n",
        "        out1 = self.layernorm1(inputs + attn_output)\n",
        "        ffn_output = self.ffn(out1)\n",
        "        ffn_output = self.dropout2(ffn_output, training=training)\n",
        "        return self.layernorm2(out1 + ffn_output)"
      ],
      "metadata": {
        "id": "mXPUP1H_hHJK"
      },
      "execution_count": null,
      "outputs": []
    },
    {
      "cell_type": "code",
      "source": [
        "class TokenAndPositionEmbedding(layers.Layer):\n",
        "    def __init__(self, maxlen, vocab_size, embed_dim):\n",
        "        super().__init__()\n",
        "        self.token_emb = layers.Embedding(input_dim=vocab_size, output_dim=embed_dim)\n",
        "        self.pos_emb = layers.Embedding(input_dim=maxlen, output_dim=embed_dim)\n",
        "\n",
        "    def call(self, x):\n",
        "        maxlen = tf.shape(x)[-1]\n",
        "        positions = tf.range(start=0, limit=maxlen, delta=1)\n",
        "        positions = self.pos_emb(positions)\n",
        "        x = self.token_emb(x)\n",
        "        return x + positions"
      ],
      "metadata": {
        "id": "MdYNMw8RojxK"
      },
      "execution_count": null,
      "outputs": []
    },
    {
      "cell_type": "markdown",
      "source": [
        "Set the model parameters."
      ],
      "metadata": {
        "id": "ivJ5XsSTpWxC"
      }
    },
    {
      "cell_type": "code",
      "source": [
        "embed_dim = 32  # Embedding size for each token\n",
        "num_heads = 2  # Number of attention heads\n",
        "ff_dim = 32  # Hidden layer size in feed forward network inside transformer\n",
        "\n",
        "inputs = layers.Input(shape=(maxlen,))\n",
        "embedding_layer = TokenAndPositionEmbedding(maxlen, vocab_size, embed_dim)\n"
      ],
      "metadata": {
        "id": "HAsMS-5UpqLr"
      },
      "execution_count": null,
      "outputs": []
    },
    {
      "cell_type": "code",
      "source": [
        "x = embedding_layer(inputs)"
      ],
      "metadata": {
        "id": "iavY0TxrpuV2"
      },
      "execution_count": null,
      "outputs": []
    },
    {
      "cell_type": "markdown",
      "source": [
        "Fit the model."
      ],
      "metadata": {
        "id": "h4omZjo-pYl-"
      }
    },
    {
      "cell_type": "code",
      "source": [
        "transformer_block = TransformerBlock(embed_dim, num_heads, ff_dim)\n",
        "x = transformer_block(x)\n",
        "x = layers.GlobalAveragePooling1D()(x)\n",
        "x = layers.Dropout(0.1)(x)\n",
        "x = layers.Dense(20, activation=\"relu\")(x)\n",
        "x = layers.Dropout(0.1)(x)\n",
        "outputs = layers.Dense(2, activation=\"softmax\")(x)\n",
        "\n",
        "model = keras.Model(inputs=inputs, outputs=outputs)"
      ],
      "metadata": {
        "id": "QP4F_JErooQ6"
      },
      "execution_count": null,
      "outputs": []
    },
    {
      "cell_type": "code",
      "source": [
        "model.compile(optimizer=\"adam\", loss=\"sparse_categorical_crossentropy\", metrics=[\"accuracy\"])\n",
        "history = model.fit(\n",
        "    train_padd, y_train, batch_size=32, epochs=2, validation_data=(val_padd, y_val)\n",
        ")"
      ],
      "metadata": {
        "colab": {
          "base_uri": "https://localhost:8080/"
        },
        "id": "c6NCu-Mkopit",
        "outputId": "cc3a73fa-0819-4d92-d7fe-a88cb592bd31"
      },
      "execution_count": null,
      "outputs": [
        {
          "output_type": "stream",
          "name": "stdout",
          "text": [
            "Epoch 1/2\n",
            "702/702 [==============================] - 106s 146ms/step - loss: 0.0789 - accuracy: 0.9690 - val_loss: 0.0045 - val_accuracy: 0.9989\n",
            "Epoch 2/2\n",
            "702/702 [==============================] - 111s 158ms/step - loss: 0.0037 - accuracy: 0.9993 - val_loss: 0.0018 - val_accuracy: 0.9993\n"
          ]
        }
      ]
    },
    {
      "cell_type": "markdown",
      "source": [
        "Check the test accuracy. It achieves the 99% accuracy."
      ],
      "metadata": {
        "id": "q3vKUYf7pa0X"
      }
    },
    {
      "cell_type": "code",
      "source": [
        "model.evaluate(test_padd, y_test)"
      ],
      "metadata": {
        "colab": {
          "base_uri": "https://localhost:8080/"
        },
        "id": "mN4QKL7y4wq_",
        "outputId": "9e80fb46-30b8-4685-d24b-de8f79fd2fd8"
      },
      "execution_count": null,
      "outputs": [
        {
          "output_type": "stream",
          "name": "stdout",
          "text": [
            "562/562 [==============================] - 33s 59ms/step - loss: 0.0057 - accuracy: 0.9988\n"
          ]
        },
        {
          "output_type": "execute_result",
          "data": {
            "text/plain": [
              "[0.005689647514373064, 0.9988307356834412]"
            ]
          },
          "metadata": {},
          "execution_count": 18
        }
      ]
    },
    {
      "cell_type": "markdown",
      "source": [
        "Get the predicted labels."
      ],
      "metadata": {
        "id": "TU15vc1tpsEb"
      }
    },
    {
      "cell_type": "code",
      "source": [
        "predict = model.predict(test_padd)\n",
        "pred_labels = np.argmax(predict, axis=1)"
      ],
      "metadata": {
        "colab": {
          "base_uri": "https://localhost:8080/"
        },
        "id": "Hzwofzv-yj0r",
        "outputId": "420f6073-1007-4140-8a39-a21965d59b84"
      },
      "execution_count": null,
      "outputs": [
        {
          "output_type": "stream",
          "name": "stdout",
          "text": [
            "562/562 [==============================] - 28s 49ms/step\n"
          ]
        }
      ]
    },
    {
      "cell_type": "markdown",
      "source": [
        "Reset the index of y_test and x_test so that the index can starts from 1 to **2000**"
      ],
      "metadata": {
        "id": "1lYpChmainyU"
      }
    },
    {
      "cell_type": "code",
      "source": [
        "y_test_reset = y_test.reset_index(drop=True)\n",
        "x_test_reset = x_test.reset_index(drop=True)"
      ],
      "metadata": {
        "id": "kABJiReZytKk"
      },
      "execution_count": null,
      "outputs": []
    },
    {
      "cell_type": "markdown",
      "source": [
        "Find the index where the predicted labels and the true labels are different."
      ],
      "metadata": {
        "id": "Qf5dd9jvplbA"
      }
    },
    {
      "cell_type": "code",
      "source": [
        "index = np.where(pred_labels-y_test_reset!=0)[0]"
      ],
      "metadata": {
        "id": "CthfYfnUyz61"
      },
      "execution_count": null,
      "outputs": []
    },
    {
      "cell_type": "markdown",
      "source": [
        "Here are some examples of incorrectly classified cases. For example, the first news is fake but it's classified as true news. This type of expressions can confuse the machine: Iran s Supreme Leader Ayatollah Ali Khamenei on Thursday said there is no guarantee a full agreement will be reached by the end of June, the AFP news agency reported.\n",
        "\n",
        "In the second example, the true label is true news but the machine says it's fake news. Unlike the true news, it does not provide any reliable source, instead it conveys the historical facts in a narrative tone. The content is also negative with the expressions like 'GOP leaders have unleashed a stunning level of vitriol against their party‚Äôs most successful presidential candidate.', so I think the machine might think that this one is fake news often used for negative compaining in politics."
      ],
      "metadata": {
        "id": "dRz_sELCk2yQ"
      }
    },
    {
      "cell_type": "code",
      "source": [
        "print(pred_labels[index])\n",
        "print(y_test_reset[index])\n",
        "print(x_test_reset[index])"
      ],
      "metadata": {
        "colab": {
          "base_uri": "https://localhost:8080/"
        },
        "id": "VKOLKXMFy303",
        "outputId": "82b75709-2b6d-43ae-d504-9ae176b58df2"
      },
      "execution_count": null,
      "outputs": [
        {
          "output_type": "stream",
          "name": "stdout",
          "text": [
            "[1 0 1 1 1 0 0 1 0 0 1 0 1 1 1 1 1 1 1 1 1]\n",
            "2108     0\n",
            "3291     1\n",
            "4155     0\n",
            "4264     0\n",
            "5873     0\n",
            "5917     1\n",
            "6577     1\n",
            "6749     0\n",
            "7854     1\n",
            "8440     1\n",
            "9351     0\n",
            "10971    1\n",
            "12419    0\n",
            "12524    0\n",
            "12540    0\n",
            "12946    0\n",
            "15128    0\n",
            "17213    0\n",
            "17391    0\n",
            "17558    0\n",
            "17877    0\n",
            "Name: target, dtype: int64\n",
            "2108      the nuclear industry is a necessity, for ener...\n",
            "3291     gop leaders have unleashed a stunning level of...\n",
            "4155     to hear donald trump tell it, he s the best, h...\n",
            "4264     u.s.-led coalition air strikes killed dozens o...\n",
            "5873      reuters is reporting: u.s. president donald t...\n",
            "5917     charleston, s.c. (reuters) - the white former ...\n",
            "6577     pyongyang - north koreans stage a demonstratio...\n",
            "6749      a number of european politicians, including j...\n",
            "7854     u.s. president barack obama visited a street m...\n",
            "8440     (reuters) - the  class of 2012  grew up with m...\n",
            "9351     donald trump has been fundraising like crazy f...\n",
            "10971                                                     \n",
            "12419    traditionally, during mexico s celebration of ...\n",
            "12524    leading from behind hasn t worked out so well ...\n",
            "12540    u.s.-led coalition air strikes killed dozens o...\n",
            "12946    president donald trump welcomed india s prime ...\n",
            "15128    donald trump s treatment of journalists is so ...\n",
            "17213    here s the thing about being the leader of the...\n",
            "17391     the nuclear industry is a necessity, for ener...\n",
            "17558    the whole world knows about the bombshell repo...\n",
            "17877    what difference does it make? well, it makes l...\n",
            "Name: text, dtype: object\n"
          ]
        }
      ]
    },
    {
      "cell_type": "markdown",
      "source": [
        "Take only the first 2000 samples from the test data."
      ],
      "metadata": {
        "id": "bvn1vMwtpxUf"
      }
    },
    {
      "cell_type": "code",
      "source": [
        "test_2000 = test_padd[:2000]"
      ],
      "metadata": {
        "id": "gfAqSOD0LJfZ"
      },
      "execution_count": null,
      "outputs": []
    },
    {
      "cell_type": "markdown",
      "source": [
        "Apply MC dropout."
      ],
      "metadata": {
        "id": "BngyQavGp0IR"
      }
    },
    {
      "cell_type": "code",
      "source": [
        "\n",
        "y_samples = np.stack([model(test_2000,training=True) for sample in range(100)])"
      ],
      "metadata": {
        "id": "eB7bhN0tCgEU"
      },
      "execution_count": null,
      "outputs": []
    },
    {
      "cell_type": "markdown",
      "source": [
        "Find the empirical lower and upper bound for the prediction intervals."
      ],
      "metadata": {
        "id": "UHh4iNvIp3JZ"
      }
    },
    {
      "cell_type": "code",
      "source": [
        "lower_bound_1 = np.percentile(y_samples[:, :, 0], 2.5, axis=0)\n",
        "upper_bound_1 = np.percentile(y_samples[:, :, 0], 97.5, axis=0)\n",
        "lower_bound_2 = np.percentile(y_samples[:, :, 1], 2.5, axis=0)\n",
        "upper_bound_2 = np.percentile(y_samples[:, :, 1], 97.5, axis=0)"
      ],
      "metadata": {
        "id": "PSPQRVY_TGfH"
      },
      "execution_count": null,
      "outputs": []
    },
    {
      "cell_type": "markdown",
      "source": [
        "95% predicton interval for predicting fake news and true news, respectively, for each case."
      ],
      "metadata": {
        "id": "kB9OxBMJkmiV"
      }
    },
    {
      "cell_type": "code",
      "source": [
        "pi_95_fake = np.column_stack((lower_bound_1, upper_bound_1))\n",
        "pi_95_true = np.column_stack((lower_bound_2, upper_bound_2))"
      ],
      "metadata": {
        "id": "OiCQOUjdTYAv"
      },
      "execution_count": null,
      "outputs": []
    },
    {
      "cell_type": "markdown",
      "source": [
        "Fine the widest 95% interval to predict the true news."
      ],
      "metadata": {
        "id": "ryM7iilYXOpF"
      }
    },
    {
      "cell_type": "code",
      "source": [
        "argmax = np.argmax(pi_95_true[:,1]-pi_95_true[:,0],axis=0)\n",
        "print(pi_95_true[argmax])\n",
        "print(y_test_reset[argmax])\n",
        "print(x_test_reset[argmax])"
      ],
      "metadata": {
        "colab": {
          "base_uri": "https://localhost:8080/"
        },
        "id": "llplef9ZTzZC",
        "outputId": "bd7de290-4e72-43a5-f1d5-36724a28a62f"
      },
      "execution_count": null,
      "outputs": [
        {
          "output_type": "stream",
          "name": "stdout",
          "text": [
            "[0.33392321 0.76636347]\n",
            "1\n",
            " (the dec. 1 story was refiled to correct gates’ first name to richard in paragraph 3) (reuters) - michael flynn’s plea of guilty on friday to lying to the federal bureau of investigation made him the fourth person known to be charged in a u.s. justice department investigation of ties between president donald trump’s 2016 election campaign and russia. the other three known to be charged by special counsel robert mueller’s probe are: ** former trump campaign manager paul manafort and richard gates. a grand jury in october indicted manafort, a longtime republican political consultant, and gates, a business associate.  the two men pleaded not guilty on oct. 30 to the 12-count indictment, whose charges include conspiracy to launder money, conspiracy against the united states and failing to register as foreign agents of ukraine’s former pro-russian government.  manafort has agreed to an $11.65 million bail deal that would result in his release from house arrest and electronic monitoring. ** former trump campaign adviser george papadopoulos. papadopoulos, a chicago-based international energy lawyer, pleaded guilty on oct. 30 to lying to fbi agents about contacts with people who claimed to have ties to top russian officials. it was the first criminal charge alleging links between the trump campaign and russia. white house spokeswoman sarah sanders played down papadopoulos’ campaign role, saying it was “extremely limited” and “any actions that he took would have been on his own.” \n"
          ]
        }
      ]
    },
    {
      "cell_type": "markdown",
      "source": [
        "The widest 95% interval to predict the fake news provides the same result. The origianl text includes the expressions like 'transportation minister yisrael katz told the jerusalem post'. Though it's true label is fake news, it can fool machines by using this kind of expressions. I found out that it also fooled chatGPT. (I re-ran the algorithm to check if everything works before submitting it, so I don't think the text appears in here to you will be the same as what I wrote before, but what I found was the fake news with the title 'ISRAEL WILL NAME New Train Station Near Western Wall After President Donald Trump'.)"
      ],
      "metadata": {
        "id": "caGFRl9UXdob"
      }
    },
    {
      "cell_type": "code",
      "source": [
        "argmax = np.argmax(pi_95_fake[:,1]-pi_95_fake[:,0],axis=0)\n",
        "print(pi_95_fake[argmax])\n",
        "print(y_test_reset[argmax])\n",
        "print(x_test_reset[argmax])"
      ],
      "metadata": {
        "colab": {
          "base_uri": "https://localhost:8080/"
        },
        "id": "qyLKkoAhWJZQ",
        "outputId": "16346f75-10ad-491e-d61a-eb4a3be1ba24"
      },
      "execution_count": null,
      "outputs": [
        {
          "output_type": "stream",
          "name": "stdout",
          "text": [
            "[0.2336365  0.66607672]\n",
            "1\n",
            " (the dec. 1 story was refiled to correct gates’ first name to richard in paragraph 3) (reuters) - michael flynn’s plea of guilty on friday to lying to the federal bureau of investigation made him the fourth person known to be charged in a u.s. justice department investigation of ties between president donald trump’s 2016 election campaign and russia. the other three known to be charged by special counsel robert mueller’s probe are: ** former trump campaign manager paul manafort and richard gates. a grand jury in october indicted manafort, a longtime republican political consultant, and gates, a business associate.  the two men pleaded not guilty on oct. 30 to the 12-count indictment, whose charges include conspiracy to launder money, conspiracy against the united states and failing to register as foreign agents of ukraine’s former pro-russian government.  manafort has agreed to an $11.65 million bail deal that would result in his release from house arrest and electronic monitoring. ** former trump campaign adviser george papadopoulos. papadopoulos, a chicago-based international energy lawyer, pleaded guilty on oct. 30 to lying to fbi agents about contacts with people who claimed to have ties to top russian officials. it was the first criminal charge alleging links between the trump campaign and russia. white house spokeswoman sarah sanders played down papadopoulos’ campaign role, saying it was “extremely limited” and “any actions that he took would have been on his own.” \n"
          ]
        }
      ]
    }
  ]
}