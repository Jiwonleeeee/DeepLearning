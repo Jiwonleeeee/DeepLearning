{
  "nbformat": 4,
  "nbformat_minor": 0,
  "metadata": {
    "colab": {
      "provenance": [],
      "authorship_tag": "ABX9TyP1gFWNcgKogWW95FOZg3BJ"
    },
    "kernelspec": {
      "name": "python3",
      "display_name": "Python 3"
    },
    "language_info": {
      "name": "python"
    }
  },
  "cells": [
    {
      "cell_type": "code",
      "execution_count": null,
      "metadata": {
        "id": "0qR-ZuR6kgcs"
      },
      "outputs": [],
      "source": [
        "import numpy as np # linear algebra\n",
        "import pandas as pd # data processing, CSV file I/O (e.g. pd.read_csv)\n",
        "import matplotlib.pyplot as plt\n",
        "import tensorflow as tf\n",
        "import tensorflow.keras as keras\n",
        "from tensorflow.keras.utils import to_categorical\n",
        "\n",
        "from sklearn.model_selection import train_test_split\n",
        "from keras.preprocessing.text import Tokenizer\n",
        "import re\n",
        "import nltk\n",
        "from nltk.stem import WordNetLemmatizer\n",
        "from sklearn.model_selection import train_test_split\n",
        "\n",
        "from keras.utils import pad_sequences\n",
        "from keras.models import Sequential\n",
        "from keras.layers import Dense, Embedding, Reshape, Flatten\n",
        "from keras.layers import LSTM, Bidirectional\n",
        "from keras.datasets import imdb\n",
        "from keras.callbacks import EarlyStopping\n",
        "\n",
        "#FYI, meaning of each label for Y:\n",
        "#1: World\n",
        "#2: Sports\n",
        "#3: Business\n",
        "#4: Sci/Tech\n"
      ]
    },
    {
      "cell_type": "code",
      "source": [],
      "metadata": {
        "id": "grwMTDjlfffj"
      },
      "execution_count": null,
      "outputs": []
    },
    {
      "cell_type": "code",
      "source": [
        "from google.colab import drive\n",
        "drive.mount('/content/drive')"
      ],
      "metadata": {
        "colab": {
          "base_uri": "https://localhost:8080/"
        },
        "id": "BtqnQBtFkl-K",
        "outputId": "b85ecbf4-5e32-4470-b011-fb1699f436d8"
      },
      "execution_count": null,
      "outputs": [
        {
          "output_type": "stream",
          "name": "stdout",
          "text": [
            "Mounted at /content/drive\n"
          ]
        }
      ]
    },
    {
      "cell_type": "code",
      "source": [
        "train_data=pd.read_csv('/content/drive/MyDrive/Colab Notebooks/train.csv',header=None,names=['target','title','text'])\n",
        "test_data=pd.read_csv('/content/drive/MyDrive/Colab Notebooks/test.csv',header=None,names=['target','title','text'])"
      ],
      "metadata": {
        "id": "s5K-9FKYkpFG"
      },
      "execution_count": null,
      "outputs": []
    },
    {
      "cell_type": "code",
      "source": [
        "x_train = train_data['text']\n",
        "y_train = train_data['target']\n",
        "x_test = test_data['text']\n",
        "y_test = test_data['target']"
      ],
      "metadata": {
        "id": "DRd7736glFKu"
      },
      "execution_count": null,
      "outputs": []
    },
    {
      "cell_type": "code",
      "source": [
        "nltk.download('wordnet')\n",
        "nltk.download('omw-1.4') # for Lemmatization"
      ],
      "metadata": {
        "colab": {
          "base_uri": "https://localhost:8080/"
        },
        "id": "hQ9kOmm8kvDK",
        "outputId": "7b8d18c8-e13e-4134-f2c0-286c6d50c4f3"
      },
      "execution_count": null,
      "outputs": [
        {
          "output_type": "stream",
          "name": "stderr",
          "text": [
            "[nltk_data] Downloading package wordnet to /root/nltk_data...\n",
            "[nltk_data] Downloading package omw-1.4 to /root/nltk_data...\n"
          ]
        },
        {
          "output_type": "execute_result",
          "data": {
            "text/plain": [
              "True"
            ]
          },
          "metadata": {},
          "execution_count": 6
        }
      ]
    },
    {
      "cell_type": "code",
      "source": [
        "x_train = x_train.apply(lambda x :x.lower()) # all lower cases\n",
        "x_test = x_test.apply(lambda x :x.lower())\n",
        "lemm = WordNetLemmatizer()\n",
        "# Lemmatization is the process of grouping together the different inflected forms of a word\n",
        "# so they can be analyzed as a single item\n",
        "print(\"rocks :\", lemm.lemmatize(\"rocks\")) # example\n",
        "x_train = x_train.apply(lambda x: lemm.lemmatize(x))\n",
        "x_test = x_test.apply(lambda x: lemm.lemmatize(x))"
      ],
      "metadata": {
        "colab": {
          "base_uri": "https://localhost:8080/"
        },
        "id": "OJvZeXEQkyJG",
        "outputId": "ec344f5b-5600-4db0-e0de-b15471869ff8"
      },
      "execution_count": null,
      "outputs": [
        {
          "output_type": "stream",
          "name": "stdout",
          "text": [
            "rocks : rock\n"
          ]
        }
      ]
    },
    {
      "cell_type": "code",
      "source": [
        "dummy_y_train = pd.get_dummies(y_train).values\n",
        "dummy_y_test = pd.get_dummies(y_test).values # to match the dimension of the output"
      ],
      "metadata": {
        "id": "uVaCoOMpliNm"
      },
      "execution_count": null,
      "outputs": []
    },
    {
      "cell_type": "code",
      "source": [],
      "metadata": {
        "colab": {
          "base_uri": "https://localhost:8080/"
        },
        "id": "YXFFsuiemlxi",
        "outputId": "bbc2de49-e6e6-4e21-b93f-892270f89e38"
      },
      "execution_count": null,
      "outputs": [
        {
          "output_type": "execute_result",
          "data": {
            "text/plain": [
              "(120000, 4)"
            ]
          },
          "metadata": {},
          "execution_count": 13
        }
      ]
    },
    {
      "cell_type": "code",
      "source": [
        "token = Tokenizer(num_words=10000,oov_token=\"<OOV>\") # replace any unknown words with OOV, split\n",
        "token.fit_on_texts(x_train) #  Tokenizer stores everything in the word_index during fit_on_texts\n",
        "token.fit_on_texts(x_test)\n",
        "word_index = token.word_index  # so the len(word_index) = # unique word in x.\n",
        "# text x -> sequences of integers, takes only 10000 most common words\n",
        "\n",
        "# padding the shorter sentences with zeroes, and truncating some of the longer sequences to be shorter\n",
        "# post: pad and truncate occur at the end of the sequence (pre=beginning)\n",
        "train_seq = token.texts_to_sequences(x_train)\n",
        "train_padd = pad_sequences(train_seq, padding=\"post\", truncating=\"post\",maxlen=60)\n",
        "\n",
        "test_seq = token.texts_to_sequences(x_test)\n",
        "test_padd = pad_sequences(test_seq, padding=\"post\", truncating=\"post\",maxlen=60)"
      ],
      "metadata": {
        "id": "z5MpJW16l3T-"
      },
      "execution_count": null,
      "outputs": []
    },
    {
      "cell_type": "code",
      "source": [
        "print(train_padd.shape, dummy_y_train.shape)\n",
        "print(test_padd.shape, dummy_y_test.shape)"
      ],
      "metadata": {
        "colab": {
          "base_uri": "https://localhost:8080/"
        },
        "id": "ik2rpfIGmXyA",
        "outputId": "baac45c1-151e-4c6c-8fa2-33f2e444e42f"
      },
      "execution_count": null,
      "outputs": [
        {
          "output_type": "stream",
          "name": "stdout",
          "text": [
            "(120000, 60) (120000, 4)\n",
            "(7600, 60) (7600, 4)\n"
          ]
        }
      ]
    },
    {
      "cell_type": "code",
      "source": [
        "model = keras.models.Sequential()\n",
        "model.add(keras.layers.Embedding(input_dim=10000, output_dim=128, input_length=60))\n",
        "model.add(keras.layers.Bidirectional(keras.layers.LSTM(64,return_sequences=True)))\n",
        "model.add(keras.layers.Bidirectional(keras.layers.LSTM(128)))\n",
        "model.add(keras.layers.Dense(128,activation=\"relu\"))\n",
        "model.add(keras.layers.Dropout(0.6))\n",
        "model.add(keras.layers.Dense(4,activation='softmax'))"
      ],
      "metadata": {
        "id": "6Zx_1VI3msS_"
      },
      "execution_count": null,
      "outputs": []
    },
    {
      "cell_type": "code",
      "source": [
        "model.summary()"
      ],
      "metadata": {
        "colab": {
          "base_uri": "https://localhost:8080/"
        },
        "id": "rBBFOexamvl7",
        "outputId": "c58f98ec-9680-4519-87ac-b8e25f125ea3"
      },
      "execution_count": null,
      "outputs": [
        {
          "output_type": "stream",
          "name": "stdout",
          "text": [
            "Model: \"sequential\"\n",
            "_________________________________________________________________\n",
            " Layer (type)                Output Shape              Param #   \n",
            "=================================================================\n",
            " embedding (Embedding)       (None, 60, 128)           1280000   \n",
            "                                                                 \n",
            " bidirectional (Bidirection  (None, 60, 128)           98816     \n",
            " al)                                                             \n",
            "                                                                 \n",
            " bidirectional_1 (Bidirecti  (None, 256)               263168    \n",
            " onal)                                                           \n",
            "                                                                 \n",
            " dense (Dense)               (None, 128)               32896     \n",
            "                                                                 \n",
            " dropout (Dropout)           (None, 128)               0         \n",
            "                                                                 \n",
            " dense_1 (Dense)             (None, 4)                 516       \n",
            "                                                                 \n",
            "=================================================================\n",
            "Total params: 1675396 (6.39 MB)\n",
            "Trainable params: 1675396 (6.39 MB)\n",
            "Non-trainable params: 0 (0.00 Byte)\n",
            "_________________________________________________________________\n"
          ]
        }
      ]
    },
    {
      "cell_type": "code",
      "source": [
        "model.compile(loss='categorical_crossentropy', optimizer='adam', metrics=['accuracy'])\n",
        "history = model.fit(train_padd, dummy_y_train, epochs=4, validation_split=0.2, callbacks=[EarlyStopping(monitor='val_loss',patience=0, min_delta=0)])\n"
      ],
      "metadata": {
        "colab": {
          "base_uri": "https://localhost:8080/"
        },
        "id": "FtInSnMxmycf",
        "outputId": "bfe60211-fb95-4d2a-b37e-a609db25d097"
      },
      "execution_count": null,
      "outputs": [
        {
          "output_type": "stream",
          "name": "stdout",
          "text": [
            "Epoch 1/4\n",
            "3000/3000 [==============================] - 780s 258ms/step - loss: 0.3781 - accuracy: 0.8731 - val_loss: 0.3155 - val_accuracy: 0.8881\n",
            "Epoch 2/4\n",
            "3000/3000 [==============================] - 765s 255ms/step - loss: 0.2469 - accuracy: 0.9195 - val_loss: 0.3233 - val_accuracy: 0.8909\n"
          ]
        }
      ]
    },
    {
      "cell_type": "code",
      "source": [
        "model.evaluate(test_padd, dummy_y_test)"
      ],
      "metadata": {
        "colab": {
          "base_uri": "https://localhost:8080/"
        },
        "id": "N9ixY6pIm0UT",
        "outputId": "fbd4f74e-6805-4724-ed97-16e9a2c3ee8f"
      },
      "execution_count": null,
      "outputs": [
        {
          "output_type": "stream",
          "name": "stdout",
          "text": [
            "238/238 [==============================] - 23s 92ms/step - loss: 0.3022 - accuracy: 0.8993\n"
          ]
        },
        {
          "output_type": "execute_result",
          "data": {
            "text/plain": [
              "[0.3021882474422455, 0.8993421196937561]"
            ]
          },
          "metadata": {},
          "execution_count": 14
        }
      ]
    },
    {
      "cell_type": "code",
      "source": [
        "predict = model.predict(test_padd)\n",
        "pred_labels = np.argmax(predict, axis=1)"
      ],
      "metadata": {
        "colab": {
          "base_uri": "https://localhost:8080/"
        },
        "id": "w4GeGN20GeLq",
        "outputId": "b2eb4b28-8845-4285-a2c6-1851b890a863"
      },
      "execution_count": null,
      "outputs": [
        {
          "output_type": "stream",
          "name": "stdout",
          "text": [
            "238/238 [==============================] - 18s 75ms/step\n"
          ]
        }
      ]
    },
    {
      "cell_type": "code",
      "source": [
        "# for confusion matrix\n",
        "from sklearn.metrics import confusion_matrix\n",
        "confusion_matrix = confusion_matrix(y_test, pred_labels)"
      ],
      "metadata": {
        "id": "0PeGD0TITj7P"
      },
      "execution_count": null,
      "outputs": []
    },
    {
      "cell_type": "code",
      "source": [
        "confusion_matrix"
      ],
      "metadata": {
        "colab": {
          "base_uri": "https://localhost:8080/"
        },
        "id": "C749ydCCZ1K0",
        "outputId": "cb1a8948-6dfa-4c40-e178-de4ee84cbdf5"
      },
      "execution_count": null,
      "outputs": [
        {
          "output_type": "execute_result",
          "data": {
            "text/plain": [
              "array([[   0,    0,    0,    0,    0],\n",
              "       [1719,   39,   85,   57,    0],\n",
              "       [  40, 1795,   39,   26,    0],\n",
              "       [  62,    8, 1620,  210,    0],\n",
              "       [  76,    4,  119, 1701,    0]])"
            ]
          },
          "metadata": {},
          "execution_count": 76
        }
      ]
    },
    {
      "cell_type": "code",
      "source": [
        "# I don't know why but somehow confusion_matrix is 5x5 not 4x4, so delete the first row and the last column\n",
        "confusion_matrix = np.delete(confusion_matrix, 0, 0)\n"
      ],
      "metadata": {
        "id": "Axq4KcIhbXzu"
      },
      "execution_count": null,
      "outputs": []
    },
    {
      "cell_type": "code",
      "source": [
        "confusion_matrix = np.delete(confusion_matrix, 4, 1)"
      ],
      "metadata": {
        "id": "g2AWjfXBcg5V"
      },
      "execution_count": null,
      "outputs": []
    },
    {
      "cell_type": "code",
      "source": [
        "confusion_matrix"
      ],
      "metadata": {
        "colab": {
          "base_uri": "https://localhost:8080/"
        },
        "id": "PJytis3ye_nm",
        "outputId": "20f85c16-1e04-430c-ace0-1acdcd8fae2c"
      },
      "execution_count": null,
      "outputs": [
        {
          "output_type": "execute_result",
          "data": {
            "text/plain": [
              "array([[1719,   39,   85,   57],\n",
              "       [  40, 1795,   39,   26],\n",
              "       [  62,    8, 1620,  210],\n",
              "       [  76,    4,  119, 1701]])"
            ]
          },
          "metadata": {},
          "execution_count": 80
        }
      ]
    },
    {
      "cell_type": "code",
      "source": [
        "import itertools\n",
        "import numpy as np\n",
        "import matplotlib.pyplot as plt\n",
        "\n",
        "def plot_confusion_matrix(cm, title='Confusion matrix', cmap=plt.cm.Oranges):\n",
        "    plt.imshow(cm, interpolation='nearest', cmap=cmap)\n",
        "    plt.title(title)\n",
        "    plt.colorbar()\n",
        "    tick_marks = np.arange(cm.shape[1])\n",
        "    plt.xticks(tick_marks, rotation=45)\n",
        "    ax = plt.gca()\n",
        "    ax.set_xticklabels((ax.get_xticks() +1).astype(str))\n",
        "    plt.yticks(tick_marks)\n",
        "\n",
        "    thresh = cm.max() / 2.\n",
        "    for i, j in itertools.product(range(cm.shape[0]), range(cm.shape[1])):\n",
        "        plt.text(j, i, format(cm[i, j], '.1f'),\n",
        "                 horizontalalignment=\"center\",\n",
        "                 color=\"white\" if cm[i, j] > thresh else \"black\")\n",
        "\n",
        "    plt.tight_layout()\n",
        "    plt.ylabel('True label')\n",
        "    plt.xlabel('Predicted label')\n",
        "\n",
        "\n",
        "fig, ax = plt.subplots()\n",
        "plot_confusion_matrix(confusion_matrix)\n",
        "\n",
        "plt.show()"
      ],
      "metadata": {
        "colab": {
          "base_uri": "https://localhost:8080/",
          "height": 506
        },
        "id": "-RK09rRFan-4",
        "outputId": "490dc641-6e2a-4d93-d4c3-3e5eb6beaa97"
      },
      "execution_count": null,
      "outputs": [
        {
          "output_type": "display_data",
          "data": {
            "text/plain": [
              "<Figure size 640x480 with 2 Axes>"
            ],
            "image/png": "[encoded data removed]"
          },
          "metadata": {}
        }
      ]
    }
  ]
}